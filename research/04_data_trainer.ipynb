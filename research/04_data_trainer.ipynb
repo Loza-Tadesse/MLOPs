{
 "cells": [
  {
   "cell_type": "code",
   "execution_count": 1,
   "id": "e6f2f57d",
   "metadata": {},
   "outputs": [],
   "source": [
    "import os"
   ]
  },
  {
   "cell_type": "code",
   "execution_count": 2,
   "id": "314d90a8",
   "metadata": {},
   "outputs": [
    {
     "data": {
      "text/plain": [
       "'c:\\\\Users\\\\mulug\\\\MLOPs\\\\MLOPs\\\\research'"
      ]
     },
     "execution_count": 2,
     "metadata": {},
     "output_type": "execute_result"
    }
   ],
   "source": [
    "%pwd"
   ]
  },
  {
   "cell_type": "code",
   "execution_count": 3,
   "id": "492fbaa2",
   "metadata": {},
   "outputs": [
    {
     "data": {
      "text/plain": [
       "'c:\\\\Users\\\\mulug\\\\MLOPs\\\\MLOPs'"
      ]
     },
     "execution_count": 3,
     "metadata": {},
     "output_type": "execute_result"
    }
   ],
   "source": [
    "os.chdir(\"../\")\n",
    "%pwd"
   ]
  },
  {
   "cell_type": "code",
   "execution_count": null,
   "id": "8e04c3a4",
   "metadata": {},
   "outputs": [],
   "source": [
    "from dataclasses import dataclass\n",
    "from pathlib import Path\n",
    "\n",
    "\n",
    "@dataclass(frozen=True)\n",
    "class ModelTrainerConfig:\n",
    "    root_dir: Path\n",
    "    train_data_path: Path\n",
    "    test_data_path: Path\n",
    "    model_name: str\n",
    "    n_estimators: int\n",
    "    max_depth: int\n",
    "    min_samples_split: int\n",
    "    target_column: str"
   ]
  },
  {
   "cell_type": "code",
   "execution_count": 5,
   "id": "693d2af3",
   "metadata": {},
   "outputs": [],
   "source": [
    "from mlProject.constants import *\n",
    "from mlProject.utils.common import read_yaml, create_directories"
   ]
  },
  {
   "cell_type": "code",
   "execution_count": null,
   "id": "c62b6018",
   "metadata": {},
   "outputs": [],
   "source": [
    "class ConfigurationManager:\n",
    "    def __init__(\n",
    "            self,\n",
    "            config_filepath=CONFIG_FILE_PATH,\n",
    "            params_filepath=PARAMS_FILE_PATH,\n",
    "            schema_filepath=SCHEMA_FILE_PATH):\n",
    "\n",
    "        self.config = read_yaml(config_filepath)\n",
    "        self.params = read_yaml(params_filepath)\n",
    "        self.schema = read_yaml(schema_filepath)\n",
    "\n",
    "        create_directories([self.config.artifacts_root])\n",
    "\n",
    "    def get_model_trainer_config(self) -> ModelTrainerConfig:\n",
    "        config = self.config.model_trainer\n",
    "        params = self.params.RandomForest\n",
    "        schema = self.schema.TARGET_COLUMN\n",
    "\n",
    "        create_directories([config.root_dir])\n",
    "\n",
    "        model_trainer_config = ModelTrainerConfig(\n",
    "            root_dir=config.root_dir,\n",
    "            train_data_path=config.train_data_path,\n",
    "            test_data_path=config.test_data_path,\n",
    "            model_name=config.model_name,\n",
    "            n_estimators=params.n_estimators,\n",
    "            max_depth=params.max_depth,\n",
    "            min_samples_split=params.min_samples_split,\n",
    "            target_column=schema.name\n",
    "        )\n",
    "\n",
    "        return model_trainer_config"
   ]
  },
  {
   "cell_type": "code",
   "execution_count": null,
   "id": "8fe773a7",
   "metadata": {},
   "outputs": [],
   "source": [
    "import pandas as pd\n",
    "import os\n",
    "import json\n",
    "from mlProject import logger\n",
    "from sklearn.ensemble import RandomForestRegressor\n",
    "import joblib"
   ]
  },
  {
   "cell_type": "code",
   "execution_count": null,
   "id": "badecd95",
   "metadata": {},
   "outputs": [],
   "source": [
    "class ModelTrainer:\n",
    "    def __init__(self, config: ModelTrainerConfig):\n",
    "        self.config = config\n",
    "\n",
    "    def train(self):\n",
    "        train_data = pd.read_csv(self.config.train_data_path)\n",
    "        test_data = pd.read_csv(self.config.test_data_path)\n",
    "\n",
    "        train_x = train_data.drop([self.config.target_column], axis=1)\n",
    "        test_x = test_data.drop([self.config.target_column], axis=1)\n",
    "        train_y = train_data[[self.config.target_column]].values.ravel()\n",
    "        test_y = test_data[[self.config.target_column]].values.ravel()\n",
    "        \n",
    "        logger.info(f\"Training data shape: {train_x.shape}\")\n",
    "        logger.info(f\"Training data features: {list(train_x.columns)}\")\n",
    "        logger.info(f\"Target column: {self.config.target_column}\")\n",
    "        \n",
    "        # Calculate feature statistics for validation\n",
    "        feature_stats = {}\n",
    "        for col in train_x.columns:\n",
    "            feature_stats[col] = {\n",
    "                'mean': float(train_x[col].mean()),\n",
    "                'std': float(train_x[col].std()),\n",
    "                'min': float(train_x[col].min()),\n",
    "                'max': float(train_x[col].max())\n",
    "            }\n",
    "        \n",
    "        # Save feature metadata\n",
    "        metadata = {\n",
    "            'feature_names': list(train_x.columns),\n",
    "            'feature_stats': feature_stats,\n",
    "            'model_config': {\n",
    "                'model_type': 'RandomForest',\n",
    "                'n_estimators': self.config.n_estimators,\n",
    "                'max_depth': self.config.max_depth,\n",
    "                'min_samples_split': self.config.min_samples_split,\n",
    "                'target_column': self.config.target_column\n",
    "            }\n",
    "        }\n",
    "        \n",
    "        metadata_path = 'artifacts/feature_metadata.json'\n",
    "        with open(metadata_path, 'w') as f:\n",
    "            json.dump(metadata, f, indent=4)\n",
    "        logger.info(f\"Saved feature metadata to {metadata_path}\")\n",
    "        \n",
    "        # Train RandomForest model\n",
    "        model = RandomForestRegressor(\n",
    "            n_estimators=self.config.n_estimators,\n",
    "            max_depth=self.config.max_depth,\n",
    "            min_samples_split=self.config.min_samples_split,\n",
    "            random_state=42,\n",
    "            n_jobs=-1\n",
    "        )\n",
    "        model.fit(train_x, train_y)\n",
    "        \n",
    "        logger.info(f\"Model trained with {self.config.n_estimators} trees\")\n",
    "\n",
    "        joblib.dump(model, os.path.join(\n",
    "            self.config.root_dir, self.config.model_name))\n",
    "        logger.info(f\"Model saved to {os.path.join(self.config.root_dir, self.config.model_name)}\")"
   ]
  },
  {
   "cell_type": "code",
   "execution_count": 11,
   "id": "02bef7a4",
   "metadata": {},
   "outputs": [
    {
     "name": "stdout",
     "output_type": "stream",
     "text": [
      "[2025-09-10 10:47:11,040: INFO: common: yaml file: config\\config.yaml loaded successfully]\n",
      "[2025-09-10 10:47:11,044: INFO: common: yaml file: params.yaml loaded successfully]\n",
      "[2025-09-10 10:47:11,048: INFO: common: yaml file: schema.yaml loaded successfully]\n",
      "[2025-09-10 10:47:11,050: INFO: common: created directory at: artifacts]\n",
      "[2025-09-10 10:47:11,052: INFO: common: created directory at: artifacts/model_trainer]\n",
      "[2025-09-10 10:47:11,078: INFO: 3943564012: Training data x:    fixed acidity  volatile acidity  citric acid  residual sugar  chlorides  \\\n",
      "0            8.0              0.60         0.22             2.1      0.080   \n",
      "1            8.9              0.31         0.36             2.6      0.056   \n",
      "2            8.8              0.60         0.29             2.2      0.098   \n",
      "3            8.3              0.33         0.42             2.3      0.070   \n",
      "4            7.5              0.60         0.03             1.8      0.095   \n",
      "\n",
      "   free sulfur dioxide  total sulfur dioxide  density    pH  sulphates  \\\n",
      "0                 25.0                 105.0  0.99613  3.30       0.49   \n",
      "1                 10.0                  39.0  0.99562  3.40       0.69   \n",
      "2                  5.0                  15.0  0.99880  3.36       0.49   \n",
      "3                  9.0                  20.0  0.99426  3.38       0.77   \n",
      "4                 25.0                  99.0  0.99500  3.35       0.54   \n",
      "\n",
      "   alcohol  \n",
      "0      9.9  \n",
      "1     11.8  \n",
      "2      9.1  \n",
      "3     12.7  \n",
      "4     10.1  ]\n",
      "[2025-09-10 10:47:11,083: INFO: 3943564012: Training data y:    quality\n",
      "0        5\n",
      "1        5\n",
      "2        5\n",
      "3        7\n",
      "4        5]\n"
     ]
    }
   ],
   "source": [
    "try:\n",
    "    config = ConfigurationManager()\n",
    "    model_trainer_config = config.get_model_trainer_config()\n",
    "    model_trainer_config = ModelTrainer(config=model_trainer_config)\n",
    "    model_trainer_config.train()\n",
    "except Exception as e:\n",
    "    raise e"
   ]
  },
  {
   "cell_type": "code",
   "execution_count": null,
   "id": "bc81f99c",
   "metadata": {},
   "outputs": [],
   "source": []
  },
  {
   "cell_type": "code",
   "execution_count": null,
   "id": "6146c3cc",
   "metadata": {},
   "outputs": [],
   "source": []
  },
  {
   "cell_type": "code",
   "execution_count": null,
   "id": "c0f5ebc8",
   "metadata": {},
   "outputs": [],
   "source": []
  },
  {
   "cell_type": "code",
   "execution_count": null,
   "id": "81a172f0",
   "metadata": {},
   "outputs": [],
   "source": []
  },
  {
   "cell_type": "code",
   "execution_count": null,
   "id": "48f04b26",
   "metadata": {},
   "outputs": [],
   "source": []
  }
 ],
 "metadata": {
  "kernelspec": {
   "display_name": "mlproject",
   "language": "python",
   "name": "python3"
  },
  "language_info": {
   "codemirror_mode": {
    "name": "ipython",
    "version": 3
   },
   "file_extension": ".py",
   "mimetype": "text/x-python",
   "name": "python",
   "nbconvert_exporter": "python",
   "pygments_lexer": "ipython3",
   "version": "3.10.18"
  }
 },
 "nbformat": 4,
 "nbformat_minor": 5
}
